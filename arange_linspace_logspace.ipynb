{
  "nbformat": 4,
  "nbformat_minor": 0,
  "metadata": {
    "colab": {
      "provenance": [],
      "authorship_tag": "ABX9TyOgbZo0YQ349QMVnEzrqQQ4",
      "include_colab_link": true
    },
    "kernelspec": {
      "name": "python3",
      "display_name": "Python 3"
    },
    "language_info": {
      "name": "python"
    }
  },
  "cells": [
    {
      "cell_type": "markdown",
      "metadata": {
        "id": "view-in-github",
        "colab_type": "text"
      },
      "source": [
        "<a href=\"https://colab.research.google.com/github/Sanjayme049/Numpy/blob/main/arange_linspace_logspace.ipynb\" target=\"_parent\"><img src=\"https://colab.research.google.com/assets/colab-badge.svg\" alt=\"Open In Colab\"/></a>"
      ]
    },
    {
      "cell_type": "code",
      "execution_count": 2,
      "metadata": {
        "id": "1mjM4b6c1iIo"
      },
      "outputs": [],
      "source": [
        "# arange function in numpy\n",
        "#np.arange(start index, stop index, step size, datatype)\n",
        "\n",
        "\n",
        "# np.linspace(start index, stop index, num, endpoint,return step, dtype)\n",
        "\n",
        "# start index-lower boundary\n",
        "# stop index-upper boundary\n",
        "# num = Number of required values in array\n",
        "#  It is optional\n",
        "# default=50\n",
        "\n",
        "# endpoint = True, stop index will be included\n",
        "          #  =false, stop index will not be included\n",
        "          # optional/default=True\n",
        "\n",
        "# return step = it returns difference between values.\n",
        "              # optional\n",
        "              # if it is True, Value will be visible\n",
        "              # if is False, value will not be visible.\n",
        "# by default it will be false\n",
        "\n",
        "\n",
        "# np.logspace(start index, stop index, num, endpoint, base,dtype)\n",
        "#  start index=lower bound\n",
        "\n",
        "# stop index = upper bound\n",
        "\n",
        "# num= number of values required /default=50\n",
        "\n",
        "# endpoint,if it is True, endpoint will be visible\n",
        "          #  if it is False, endpoint will not be visible\n",
        "          # optional/default=True\n",
        "\n",
        "# base= Base of log values\n",
        "      # default=True\n",
        "\n",
        "      \n",
        "\n",
        "\n",
        "\n"
      ]
    },
    {
      "cell_type": "code",
      "source": [
        "import numpy as np\n",
        "print(np.arange(0,10,2,dtype=\"int\"))"
      ],
      "metadata": {
        "colab": {
          "base_uri": "https://localhost:8080/"
        },
        "id": "skQS8egYyDJY",
        "outputId": "ad61f828-a224-48bd-8831-1ee2e33beed8"
      },
      "execution_count": 9,
      "outputs": [
        {
          "output_type": "stream",
          "name": "stdout",
          "text": [
            "[0 2 4 6 8]\n"
          ]
        }
      ]
    },
    {
      "cell_type": "code",
      "source": [
        "arr=np.arange(0,10,2,dtype=\"int\")"
      ],
      "metadata": {
        "id": "hgGQeG5qy8Ht"
      },
      "execution_count": 10,
      "outputs": []
    },
    {
      "cell_type": "code",
      "source": [
        "print(arr)"
      ],
      "metadata": {
        "colab": {
          "base_uri": "https://localhost:8080/"
        },
        "id": "fKjseLmW0WqS",
        "outputId": "7ee74c46-ebce-45e1-8e4a-4c48aa088749"
      },
      "execution_count": 8,
      "outputs": [
        {
          "output_type": "stream",
          "name": "stdout",
          "text": [
            "[0 3 6 9]\n"
          ]
        }
      ]
    },
    {
      "cell_type": "code",
      "source": [
        "arr=np.arange(0,10,2,dtype=\"float\")"
      ],
      "metadata": {
        "id": "TedJomCT0Xlj"
      },
      "execution_count": 11,
      "outputs": []
    },
    {
      "cell_type": "code",
      "source": [
        "print(arr)"
      ],
      "metadata": {
        "colab": {
          "base_uri": "https://localhost:8080/"
        },
        "id": "TZqxiJNv2LcW",
        "outputId": "814a0473-ad39-44bb-cd31-8d7ea4d4b3a0"
      },
      "execution_count": 12,
      "outputs": [
        {
          "output_type": "stream",
          "name": "stdout",
          "text": [
            "[0. 2. 4. 6. 8.]\n"
          ]
        }
      ]
    },
    {
      "cell_type": "code",
      "source": [
        "arr1=np.linspace(0,10,5,retstep=True,dtype=\"float\")"
      ],
      "metadata": {
        "id": "qpUSThhT2Nhy"
      },
      "execution_count": 13,
      "outputs": []
    },
    {
      "cell_type": "code",
      "source": [
        "print(arr1)"
      ],
      "metadata": {
        "colab": {
          "base_uri": "https://localhost:8080/"
        },
        "id": "OeJsBjJi2fzT",
        "outputId": "675c50b8-eb34-4cbd-de07-4d5814309e40"
      },
      "execution_count": 14,
      "outputs": [
        {
          "output_type": "stream",
          "name": "stdout",
          "text": [
            "(array([ 0. ,  2.5,  5. ,  7.5, 10. ]), 2.5)\n"
          ]
        }
      ]
    },
    {
      "cell_type": "code",
      "source": [
        "arr2=np.linspace(0,10,retstep=True,dtype=\"float\")"
      ],
      "metadata": {
        "id": "j39NEwet23fK"
      },
      "execution_count": 15,
      "outputs": []
    },
    {
      "cell_type": "code",
      "source": [
        "print(arr2)"
      ],
      "metadata": {
        "colab": {
          "base_uri": "https://localhost:8080/"
        },
        "id": "EiR9uz003GLc",
        "outputId": "d555baca-53a0-457c-aa35-64fe228965c7"
      },
      "execution_count": 16,
      "outputs": [
        {
          "output_type": "stream",
          "name": "stdout",
          "text": [
            "(array([ 0.        ,  0.20408163,  0.40816327,  0.6122449 ,  0.81632653,\n",
            "        1.02040816,  1.2244898 ,  1.42857143,  1.63265306,  1.83673469,\n",
            "        2.04081633,  2.24489796,  2.44897959,  2.65306122,  2.85714286,\n",
            "        3.06122449,  3.26530612,  3.46938776,  3.67346939,  3.87755102,\n",
            "        4.08163265,  4.28571429,  4.48979592,  4.69387755,  4.89795918,\n",
            "        5.10204082,  5.30612245,  5.51020408,  5.71428571,  5.91836735,\n",
            "        6.12244898,  6.32653061,  6.53061224,  6.73469388,  6.93877551,\n",
            "        7.14285714,  7.34693878,  7.55102041,  7.75510204,  7.95918367,\n",
            "        8.16326531,  8.36734694,  8.57142857,  8.7755102 ,  8.97959184,\n",
            "        9.18367347,  9.3877551 ,  9.59183673,  9.79591837, 10.        ]), 0.20408163265306123)\n"
          ]
        }
      ]
    },
    {
      "cell_type": "code",
      "source": [
        "arr3=np.logspace(0,20,5)"
      ],
      "metadata": {
        "id": "X6oe_ihZ3I2A"
      },
      "execution_count": 20,
      "outputs": []
    },
    {
      "cell_type": "code",
      "source": [
        "print(arr3)"
      ],
      "metadata": {
        "colab": {
          "base_uri": "https://localhost:8080/"
        },
        "id": "DmgIBVDF4HF8",
        "outputId": "01ce1cf2-29bd-4811-8ebd-3fcee4c53251"
      },
      "execution_count": 21,
      "outputs": [
        {
          "output_type": "stream",
          "name": "stdout",
          "text": [
            "[1.e+00 1.e+05 1.e+10 1.e+15 1.e+20]\n"
          ]
        }
      ]
    },
    {
      "cell_type": "code",
      "source": [
        "arr3=np.logspace(1,10,endpoint=False)"
      ],
      "metadata": {
        "id": "m3aU8wlI4tpW"
      },
      "execution_count": 22,
      "outputs": []
    },
    {
      "cell_type": "code",
      "source": [
        "print(arr3)"
      ],
      "metadata": {
        "colab": {
          "base_uri": "https://localhost:8080/"
        },
        "id": "68b4UWxL5SbI",
        "outputId": "f241b346-aa7d-483a-c8cf-32cbefc98eb8"
      },
      "execution_count": 23,
      "outputs": [
        {
          "output_type": "stream",
          "name": "stdout",
          "text": [
            "[1.00000000e+01 1.51356125e+01 2.29086765e+01 3.46736850e+01\n",
            " 5.24807460e+01 7.94328235e+01 1.20226443e+02 1.81970086e+02\n",
            " 2.75422870e+02 4.16869383e+02 6.30957344e+02 9.54992586e+02\n",
            " 1.44543977e+03 2.18776162e+03 3.31131121e+03 5.01187234e+03\n",
            " 7.58577575e+03 1.14815362e+04 1.73780083e+04 2.63026799e+04\n",
            " 3.98107171e+04 6.02559586e+04 9.12010839e+04 1.38038426e+05\n",
            " 2.08929613e+05 3.16227766e+05 4.78630092e+05 7.24435960e+05\n",
            " 1.09647820e+06 1.65958691e+06 2.51188643e+06 3.80189396e+06\n",
            " 5.75439937e+06 8.70963590e+06 1.31825674e+07 1.99526231e+07\n",
            " 3.01995172e+07 4.57088190e+07 6.91830971e+07 1.04712855e+08\n",
            " 1.58489319e+08 2.39883292e+08 3.63078055e+08 5.49540874e+08\n",
            " 8.31763771e+08 1.25892541e+09 1.90546072e+09 2.88403150e+09\n",
            " 4.36515832e+09 6.60693448e+09]\n"
          ]
        }
      ]
    },
    {
      "cell_type": "code",
      "source": [],
      "metadata": {
        "id": "CpVSjinl5U--"
      },
      "execution_count": null,
      "outputs": []
    }
  ]
}