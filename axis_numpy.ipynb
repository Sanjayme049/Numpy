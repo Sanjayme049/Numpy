{
  "nbformat": 4,
  "nbformat_minor": 0,
  "metadata": {
    "colab": {
      "provenance": [],
      "authorship_tag": "ABX9TyPtfvdoo3qfWCv/MVno3MVu",
      "include_colab_link": true
    },
    "kernelspec": {
      "name": "python3",
      "display_name": "Python 3"
    },
    "language_info": {
      "name": "python"
    }
  },
  "cells": [
    {
      "cell_type": "markdown",
      "metadata": {
        "id": "view-in-github",
        "colab_type": "text"
      },
      "source": [
        "<a href=\"https://colab.research.google.com/github/Sanjayme049/Numpy/blob/main/axis_numpy.ipynb\" target=\"_parent\"><img src=\"https://colab.research.google.com/assets/colab-badge.svg\" alt=\"Open In Colab\"/></a>"
      ]
    },
    {
      "cell_type": "code",
      "execution_count": 1,
      "metadata": {
        "id": "go2y-8eAuitz"
      },
      "outputs": [],
      "source": [
        "# Axis-0 means Column\n",
        "# Axis-1 means Row"
      ]
    },
    {
      "cell_type": "code",
      "source": [
        "import numpy as np\n"
      ],
      "metadata": {
        "id": "Hi_-BAiju0p0"
      },
      "execution_count": 2,
      "outputs": []
    },
    {
      "cell_type": "code",
      "source": [
        "a=np.array([[40,20,30],[90,30,40]])\n"
      ],
      "metadata": {
        "id": "stou2riYxceg"
      },
      "execution_count": 3,
      "outputs": []
    },
    {
      "cell_type": "code",
      "source": [
        "a"
      ],
      "metadata": {
        "colab": {
          "base_uri": "https://localhost:8080/"
        },
        "id": "k5fcI8tKxpvO",
        "outputId": "4b152212-cb03-4f5d-bb38-e6309c258a85"
      },
      "execution_count": 4,
      "outputs": [
        {
          "output_type": "execute_result",
          "data": {
            "text/plain": [
              "array([[40, 20, 30],\n",
              "       [90, 30, 40]])"
            ]
          },
          "metadata": {},
          "execution_count": 4
        }
      ]
    },
    {
      "cell_type": "code",
      "source": [
        "np.sort(a,axis=0)"
      ],
      "metadata": {
        "colab": {
          "base_uri": "https://localhost:8080/"
        },
        "id": "BRgLNjnyxqgc",
        "outputId": "5d33e4f8-1be3-459d-c216-43a699fdefdb"
      },
      "execution_count": 6,
      "outputs": [
        {
          "output_type": "execute_result",
          "data": {
            "text/plain": [
              "array([[40, 20, 30],\n",
              "       [90, 30, 40]])"
            ]
          },
          "metadata": {},
          "execution_count": 6
        }
      ]
    },
    {
      "cell_type": "code",
      "source": [
        "b=np.array([[10,20,15],[5,10,25]])\n",
        "np.sort(b,axis=0)   #[5,10,15]\n",
        "                    #  [10,20,25]"
      ],
      "metadata": {
        "colab": {
          "base_uri": "https://localhost:8080/"
        },
        "id": "JabrzogcyQW7",
        "outputId": "2388afc2-4446-49e5-e3bc-6d5cfa47ba51"
      },
      "execution_count": 8,
      "outputs": [
        {
          "output_type": "execute_result",
          "data": {
            "text/plain": [
              "array([[ 5, 10, 15],\n",
              "       [10, 20, 25]])"
            ]
          },
          "metadata": {},
          "execution_count": 8
        }
      ]
    },
    {
      "cell_type": "code",
      "source": [
        "c=np.array([[1,2,3,4],[6,7,8,9]])\n",
        "np.sort(c,axis=0)"
      ],
      "metadata": {
        "colab": {
          "base_uri": "https://localhost:8080/"
        },
        "id": "VvSrDhNvGUJ7",
        "outputId": "00d6b754-fc79-47bb-fb54-cb4e9f4ba196"
      },
      "execution_count": 9,
      "outputs": [
        {
          "output_type": "execute_result",
          "data": {
            "text/plain": [
              "array([[1, 2, 3, 4],\n",
              "       [6, 7, 8, 9]])"
            ]
          },
          "metadata": {},
          "execution_count": 9
        }
      ]
    },
    {
      "cell_type": "code",
      "source": [
        "d=np.array([[25,35,45,90],[100,2,10,3]])\n",
        "# [[25,2,10,3]\n",
        "# [100,35,45,90]]\n",
        "np.sort(d,axis=0)"
      ],
      "metadata": {
        "colab": {
          "base_uri": "https://localhost:8080/"
        },
        "id": "G-0p4PYkGvRb",
        "outputId": "bad510bb-469d-4c62-a2d7-5c9b9bfccff8"
      },
      "execution_count": 12,
      "outputs": [
        {
          "output_type": "execute_result",
          "data": {
            "text/plain": [
              "array([[ 25,   2,  10,   3],\n",
              "       [100,  35,  45,  90]])"
            ]
          },
          "metadata": {},
          "execution_count": 12
        }
      ]
    },
    {
      "cell_type": "code",
      "source": [
        "e=np.array([[25,35,45,90],[100,90,25,10]])\n",
        "np.sort(e,axis=1)"
      ],
      "metadata": {
        "colab": {
          "base_uri": "https://localhost:8080/"
        },
        "id": "TAyqy6GwHprK",
        "outputId": "7e858a6f-7324-4579-9ae7-39eaea0492de"
      },
      "execution_count": 13,
      "outputs": [
        {
          "output_type": "execute_result",
          "data": {
            "text/plain": [
              "array([[ 25,  35,  45,  90],\n",
              "       [ 10,  25,  90, 100]])"
            ]
          },
          "metadata": {},
          "execution_count": 13
        }
      ]
    },
    {
      "cell_type": "code",
      "source": [
        "f=np.array([[100,250,350,1],[1000,1250,100,800]])\n",
        "np.sort(f,axis=1)\n",
        "# [1,100,250,350]\n",
        "# [100,800,1000,1250]"
      ],
      "metadata": {
        "colab": {
          "base_uri": "https://localhost:8080/"
        },
        "id": "hFpQ38VXJ0bn",
        "outputId": "499c5f08-44ec-4388-98b1-c46b422dee21"
      },
      "execution_count": 14,
      "outputs": [
        {
          "output_type": "execute_result",
          "data": {
            "text/plain": [
              "array([[   1,  100,  250,  350],\n",
              "       [ 100,  800, 1000, 1250]])"
            ]
          },
          "metadata": {},
          "execution_count": 14
        }
      ]
    },
    {
      "cell_type": "code",
      "source": [],
      "metadata": {
        "id": "uqRMcpx3Kh-u"
      },
      "execution_count": null,
      "outputs": []
    }
  ]
}